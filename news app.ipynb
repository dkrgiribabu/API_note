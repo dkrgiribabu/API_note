{
 "cells": [
  {
   "cell_type": "code",
   "execution_count": null,
   "id": "eb5368ae",
   "metadata": {},
   "outputs": [],
   "source": [
    "import flask\n",
    "from flask import Flask, Response\n",
    "import requests\n",
    "news=Flask(__name__)\n",
    "@news.route('/')\n",
    "def welcome():\n",
    "    return '\"Happy browsing\"'\n",
    "\n",
    "@news.route('/surprise')\n",
    "def new_tax():\n",
    "    url = 'https://i.pinimg.com/736x/02/ed/c8/02edc8bb3e442b206245f2c7bd16211a.jpg'\n",
    "    response = requests.get(url)\n",
    "    if response.status_code==200:\n",
    "        return Response(response.content, mimetype='image/jpeg')\n",
    "    else:\n",
    "        return f'Failed to fetch content. Status code: {response.status_code}'\n",
    "    \n",
    "if __name__=='__main__':\n",
    "    news.run(port=5000)"
   ]
  },
  {
   "cell_type": "code",
   "execution_count": null,
   "id": "103b444b",
   "metadata": {},
   "outputs": [],
   "source": [
    "import flask\n",
    "from flask import Flask, Response\n",
    "import requests\n",
    "news=Flask(__name__)\n",
    "@news.route('/')\n",
    "def welcome():\n",
    "    return '\"Happy browsing\"'\n",
    "\n",
    "@news.route('/surprise',methods=['PUT'])\n",
    "def new_tax():\n",
    "    if request.method=='PUT':\n",
    "        url = 'https://i.pinimg.com/736x/02/ed/c8/02edc8bb3e442b206245f2c7bd16211a.jpg'\n",
    "        response = requests.put(url)\n",
    "        if response.status_code==200:\n",
    "            result='successfull'\n",
    "            return result#Response(response.content, mimetype='image/jpeg')\n",
    "        else:\n",
    "            return f'Failed to fetch content. Status code: {response.status_code}'\n",
    "    else:\n",
    "        return 'Method failed. Only PUT are accepted'\n",
    "    \n",
    "if __name__=='__main__':\n",
    "    news.run(port=5000)"
   ]
  },
  {
   "cell_type": "code",
   "execution_count": null,
   "id": "8b8f76ca",
   "metadata": {},
   "outputs": [],
   "source": []
  },
  {
   "cell_type": "code",
   "execution_count": null,
   "id": "e0da0467",
   "metadata": {},
   "outputs": [],
   "source": []
  }
 ],
 "metadata": {
  "kernelspec": {
   "display_name": "Python 3 (ipykernel)",
   "language": "python",
   "name": "python3"
  },
  "language_info": {
   "codemirror_mode": {
    "name": "ipython",
    "version": 3
   },
   "file_extension": ".py",
   "mimetype": "text/x-python",
   "name": "python",
   "nbconvert_exporter": "python",
   "pygments_lexer": "ipython3",
   "version": "3.9.13"
  }
 },
 "nbformat": 4,
 "nbformat_minor": 5
}
