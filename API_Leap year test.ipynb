{
 "cells": [
  {
   "cell_type": "code",
   "execution_count": null,
   "id": "eed40749",
   "metadata": {},
   "outputs": [],
   "source": [
    "def leap_year_test(year):\n",
    "    \n",
    "    leap = 'false'\n",
    "    if year%4==0:\n",
    "        if year%100==0:\n",
    "            if year%400==0:\n",
    "                leap = 'true'\n",
    "            else:\n",
    "                leap = 'false'\n",
    "        else:\n",
    "            leap ='true'\n",
    "    else:\n",
    "        leap = 'false'\n",
    "    \n",
    "    return(leap)"
   ]
  },
  {
   "cell_type": "code",
   "execution_count": null,
   "id": "95ac6092",
   "metadata": {},
   "outputs": [],
   "source": [
    "import flask\n",
    "from flask import Flask,request\n",
    "leap_year= Flask(__name__)\n",
    "\n",
    "@leap_year.route('/leap',methods=['POST'])\n",
    "\n",
    "def api_1():\n",
    "    year=int(request.form.get('n'))\n",
    "    \n",
    "    result=leap_year_test(year)\n",
    "    \n",
    "    return f\"Is the {year} a leap year?{result}\"\n",
    "if __name__=='__main__':\n",
    "    leap_year.run(port=5000)\n",
    "    leap_year.run(debug= True)"
   ]
  },
  {
   "cell_type": "code",
   "execution_count": null,
   "id": "85263a9e",
   "metadata": {},
   "outputs": [],
   "source": []
  },
  {
   "cell_type": "code",
   "execution_count": null,
   "id": "9c2c1dad",
   "metadata": {},
   "outputs": [],
   "source": []
  }
 ],
 "metadata": {
  "kernelspec": {
   "display_name": "Python 3 (ipykernel)",
   "language": "python",
   "name": "python3"
  },
  "language_info": {
   "codemirror_mode": {
    "name": "ipython",
    "version": 3
   },
   "file_extension": ".py",
   "mimetype": "text/x-python",
   "name": "python",
   "nbconvert_exporter": "python",
   "pygments_lexer": "ipython3",
   "version": "3.9.13"
  }
 },
 "nbformat": 4,
 "nbformat_minor": 5
}
