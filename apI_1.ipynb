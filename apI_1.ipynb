{
 "cells": [
  {
   "cell_type": "code",
   "execution_count": null,
   "id": "34fed4ae",
   "metadata": {},
   "outputs": [],
   "source": [
    "import flask"
   ]
  },
  {
   "cell_type": "code",
   "execution_count": null,
   "id": "b19e74c9",
   "metadata": {},
   "outputs": [],
   "source": [
    "from flask import Flask"
   ]
  },
  {
   "cell_type": "code",
   "execution_count": null,
   "id": "f10104ee",
   "metadata": {},
   "outputs": [],
   "source": [
    "apps = Flask(__name__)"
   ]
  },
  {
   "cell_type": "code",
   "execution_count": null,
   "id": "a75fba69",
   "metadata": {},
   "outputs": [],
   "source": [
    "@apps.route('/')\n",
    "def hello_word():\n",
    "    return 'This is my first API call'"
   ]
  },
  {
   "cell_type": "code",
   "execution_count": null,
   "id": "8c0dbd2a",
   "metadata": {},
   "outputs": [],
   "source": [
    "@apps.route('/mums')\n",
    "def mumbai_call():\n",
    "    c= '\"This is my first mums call\"'\n",
    "    return (c)"
   ]
  },
  {
   "cell_type": "code",
   "execution_count": null,
   "id": "133c1277",
   "metadata": {},
   "outputs": [],
   "source": [
    "if __name__ == '__main__':\n",
    "    apps.run(port=5000)"
   ]
  },
  {
   "cell_type": "code",
   "execution_count": null,
   "id": "b0d54035",
   "metadata": {},
   "outputs": [],
   "source": []
  }
 ],
 "metadata": {
  "kernelspec": {
   "display_name": "Python 3 (ipykernel)",
   "language": "python",
   "name": "python3"
  },
  "language_info": {
   "codemirror_mode": {
    "name": "ipython",
    "version": 3
   },
   "file_extension": ".py",
   "mimetype": "text/x-python",
   "name": "python",
   "nbconvert_exporter": "python",
   "pygments_lexer": "ipython3",
   "version": "3.9.13"
  }
 },
 "nbformat": 4,
 "nbformat_minor": 5
}
