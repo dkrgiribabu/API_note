{
 "cells": [
  {
   "cell_type": "code",
   "execution_count": 1,
   "id": "6e31e4a7",
   "metadata": {},
   "outputs": [],
   "source": [
    "def reverse_string(original):\n",
    "    org_str=[i for i in original]\n",
    "    y=[chr(ord('A')+i) for i in range(26)]+[chr(ord('a')+i) for i in range(26)]+[chr(ord('0')+i) for i in range(10)]\n",
    "    spl=[]\n",
    "    pos=[]\n",
    "    alpha=[]\n",
    "    for i in org_str:\n",
    "        if i in y:\n",
    "            alpha.append(i)\n",
    "        else:\n",
    "            spl.append(i)\n",
    "    alpha=alpha[::-1]\n",
    "    for i in range(len(org_str)):\n",
    "        for j in range(len(spl)):\n",
    "            if org_str[i]!=spl[j]:\n",
    "                continue\n",
    "            else:\n",
    "                pos.append(i)\n",
    "                alpha.insert(i,spl[j])\n",
    "    x= ''.join(alpha)\n",
    "    return x"
   ]
  },
  {
   "cell_type": "code",
   "execution_count": 2,
   "id": "39b37976",
   "metadata": {},
   "outputs": [
    {
     "name": "stdout",
     "output_type": "stream",
     "text": [
      " * Serving Flask app \"__main__\" (lazy loading)\n",
      " * Environment: production\n",
      "\u001b[31m   WARNING: This is a development server. Do not use it in a production deployment.\u001b[0m\n",
      "\u001b[2m   Use a production WSGI server instead.\u001b[0m\n",
      " * Debug mode: off\n"
     ]
    },
    {
     "name": "stderr",
     "output_type": "stream",
     "text": [
      " * Running on http://127.0.0.1:2000/ (Press CTRL+C to quit)\n",
      "127.0.0.1 - - [19/Apr/2024 23:48:29] \"POST /reverse HTTP/1.1\" 200 -\n",
      "127.0.0.1 - - [19/Apr/2024 23:53:29] \"POST /reverse HTTP/1.1\" 200 -\n",
      "127.0.0.1 - - [19/Apr/2024 23:55:38] \"POST /reverse HTTP/1.1\" 200 -\n",
      "127.0.0.1 - - [19/Apr/2024 23:55:56] \"POST /reverse HTTP/1.1\" 200 -\n",
      "127.0.0.1 - - [19/Apr/2024 23:56:10] \"POST /reverse HTTP/1.1\" 200 -\n",
      "127.0.0.1 - - [19/Apr/2024 23:56:11] \"POST /reverse HTTP/1.1\" 200 -\n",
      "127.0.0.1 - - [19/Apr/2024 23:56:17] \"POST /reverse HTTP/1.1\" 200 -\n"
     ]
    },
    {
     "name": "stdout",
     "output_type": "stream",
     "text": [
      " * Serving Flask app \"__main__\" (lazy loading)\n",
      " * Environment: production\n",
      "\u001b[31m   WARNING: This is a development server. Do not use it in a production deployment.\u001b[0m\n",
      "\u001b[2m   Use a production WSGI server instead.\u001b[0m\n",
      " * Debug mode: on\n"
     ]
    },
    {
     "name": "stderr",
     "output_type": "stream",
     "text": [
      " * Running on http://127.0.0.1:5000/ (Press CTRL+C to quit)\n",
      " * Restarting with stat\n",
      "Traceback (most recent call last):\n",
      "  File \"/opt/anaconda3/lib/python3.9/site-packages/ipykernel_launcher.py\", line 15, in <module>\n",
      "    from ipykernel import kernelapp as app\n",
      "  File \"/opt/anaconda3/lib/python3.9/site-packages/ipykernel/kernelapp.py\", line 18, in <module>\n",
      "    from IPython.core.application import (\n",
      "  File \"/opt/anaconda3/lib/python3.9/site-packages/IPython/__init__.py\", line 54, in <module>\n",
      "    from .terminal.embed import embed\n",
      "  File \"/opt/anaconda3/lib/python3.9/site-packages/IPython/terminal/embed.py\", line 16, in <module>\n",
      "    from IPython.terminal.interactiveshell import TerminalInteractiveShell\n",
      "  File \"/opt/anaconda3/lib/python3.9/site-packages/IPython/terminal/interactiveshell.py\", line 48, in <module>\n",
      "    from .debugger import TerminalPdb, Pdb\n",
      "  File \"/opt/anaconda3/lib/python3.9/site-packages/IPython/terminal/debugger.py\", line 6, in <module>\n",
      "    from IPython.core.completer import IPCompleter\n",
      "  File \"/opt/anaconda3/lib/python3.9/site-packages/IPython/core/completer.py\", line 250, in <module>\n",
      "    import jedi\n",
      "  File \"/opt/anaconda3/lib/python3.9/site-packages/jedi/__init__.py\", line 32, in <module>\n",
      "    from jedi.api import Script, Interpreter, set_debug_function, preload_module\n",
      "  File \"/opt/anaconda3/lib/python3.9/site-packages/jedi/api/__init__.py\", line 13, in <module>\n",
      "    import parso\n",
      "  File \"/opt/anaconda3/lib/python3.9/site-packages/parso/__init__.py\", line 42, in <module>\n",
      "    from parso.grammar import Grammar, load_grammar\n",
      "  File \"/opt/anaconda3/lib/python3.9/site-packages/parso/grammar.py\", line 13, in <module>\n",
      "    from parso.cache import parser_cache, load_module, try_to_save_module\n",
      "  File \"/opt/anaconda3/lib/python3.9/site-packages/parso/cache.py\", line 76, in <module>\n",
      "    _default_cache_path = _get_default_cache_path()\n",
      "  File \"/opt/anaconda3/lib/python3.9/site-packages/parso/cache.py\", line 73, in _get_default_cache_path\n",
      "    return dir_.expanduser()\n",
      "AttributeError: 'PosixPath' object has no attribute 'expanduser'\n"
     ]
    },
    {
     "ename": "SystemExit",
     "evalue": "1",
     "output_type": "error",
     "traceback": [
      "An exception has occurred, use %tb to see the full traceback.\n",
      "\u001b[0;31mSystemExit\u001b[0m\u001b[0;31m:\u001b[0m 1\n"
     ]
    },
    {
     "name": "stderr",
     "output_type": "stream",
     "text": [
      "/opt/anaconda3/lib/python3.9/site-packages/IPython/core/interactiveshell.py:3558: UserWarning: To exit: use 'exit', 'quit', or Ctrl-D.\n",
      "  warn(\"To exit: use 'exit', 'quit', or Ctrl-D.\", stacklevel=1)\n"
     ]
    }
   ],
   "source": [
    "import flask\n",
    "from flask import Flask,request\n",
    "reverse_str= Flask(__name__)\n",
    "\n",
    "@reverse_str.route('/reverse',methods=['POST'])\n",
    "\n",
    "def api_2():\n",
    "    original=str(request.form.get('a'))\n",
    "    \n",
    "    result=reverse_string(original)\n",
    "    \n",
    "    return f\"the reversed string is: {result}\"\n",
    "if __name__=='__main__':\n",
    "    reverse_str.run(port=2000)\n",
    "    reverse_str.run(debug= True)"
   ]
  },
  {
   "cell_type": "code",
   "execution_count": null,
   "id": "2f2e53f2",
   "metadata": {},
   "outputs": [],
   "source": []
  }
 ],
 "metadata": {
  "kernelspec": {
   "display_name": "Python 3 (ipykernel)",
   "language": "python",
   "name": "python3"
  },
  "language_info": {
   "codemirror_mode": {
    "name": "ipython",
    "version": 3
   },
   "file_extension": ".py",
   "mimetype": "text/x-python",
   "name": "python",
   "nbconvert_exporter": "python",
   "pygments_lexer": "ipython3",
   "version": "3.9.13"
  }
 },
 "nbformat": 4,
 "nbformat_minor": 5
}
